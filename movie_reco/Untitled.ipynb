{
 "cells": [
  {
   "cell_type": "code",
   "execution_count": null,
   "id": "f5f21e94-aa7d-4089-be77-f9ded679339b",
   "metadata": {},
   "outputs": [],
   "source": [
    "! which python"
   ]
  },
  {
   "cell_type": "code",
   "execution_count": null,
   "id": "f99cf3f3-d48c-4cde-b7fa-f19313c4f833",
   "metadata": {},
   "outputs": [],
   "source": [
    "import pandas as pd\n",
    "\n",
    "import os\n",
    "\n",
    "# processing\n",
    "from sklearn.preprocessing import MultiLabelBinarizer\n",
    "\n",
    "# viz\n",
    "import plotly.express as px"
   ]
  },
  {
   "cell_type": "code",
   "execution_count": null,
   "id": "4959ee06-1c75-472f-943f-97b889e27bd6",
   "metadata": {},
   "outputs": [],
   "source": [
    "\"\"\"\n",
    "\n",
    "    where am i?\n",
    "\n",
    "\"\"\"\n",
    "\n",
    "PATH = os.getcwd() + '/'\n",
    "data_path = PATH + 'data/'\n",
    "\n",
    "print(f'path: {PATH}')\n",
    "print(f'data path: {data_path}')"
   ]
  },
  {
   "cell_type": "code",
   "execution_count": null,
   "id": "5fed23dc-9854-4d94-9327-f0eab438e152",
   "metadata": {},
   "outputs": [],
   "source": [
    "\"\"\"\n",
    "\n",
    "    load data\n",
    "\n",
    "\"\"\"\n",
    "\n",
    "tag_df = pd.read_csv( data_path + 'tag.csv' )\n",
    "rating_df = pd.read_csv( data_path + 'rating.csv' )\n",
    "movie_df = pd.read_csv( data_path + 'movie.csv' )\n",
    "link_df = pd.read_csv( data_path + 'link.csv' )\n",
    "gscores_df = pd.read_csv( data_path + 'genome_scores.csv' )\n",
    "gtags_df = pd.read_csv( data_path + 'genome_tags.csv' )"
   ]
  },
  {
   "cell_type": "code",
   "execution_count": null,
   "id": "18e490b2-98ea-450e-a51f-b625d1d3fe7b",
   "metadata": {},
   "outputs": [],
   "source": [
    "rating_df['label'] = 0\n",
    "rating_df.loc[ rating_df['rating'] >= 4, 'label' ] = 1\n",
    "\n",
    "aux = rating_df.copy()\n",
    "aux['label'] = aux['label'].astype(int).astype(str)\n",
    "\n",
    "fig = px.histogram(aux, x='label', histnorm='probability density')\n",
    "fig.show()"
   ]
  },
  {
   "cell_type": "code",
   "execution_count": null,
   "id": "7d0327df-c0e9-4e74-9bb6-a384214121e9",
   "metadata": {},
   "outputs": [],
   "source": [
    "\"\"\"\n",
    "\n",
    "    data processing\n",
    "\n",
    "\"\"\"\n",
    "\n",
    "\n",
    "def genres_process(genres):\n",
    "    \n",
    "    genres = genres.split('|')\n",
    "    \n",
    "    return genres\n",
    "\n",
    "mlb = MultiLabelBinarizer()\n",
    "genres_df = pd.DataFrame( mlb.fit_transform( pd.Series( movie_df['genres'].apply( genres_process ) ) ), columns=mlb.classes_, index=pd.Series( movie_df['genres'].apply( genres_process ) ) ).reset_index(drop=True)\n",
    "genres_df = pd.concat( [ movie_df[['movieId']], genres_df ], axis=1 )\n",
    "\n",
    "genres_df.head()"
   ]
  },
  {
   "cell_type": "code",
   "execution_count": null,
   "id": "1bed9cc0-d439-4d03-8ca4-37aec71ca29a",
   "metadata": {},
   "outputs": [],
   "source": [
    "movie_df.head()"
   ]
  },
  {
   "cell_type": "code",
   "execution_count": null,
   "id": "296fb482-c01b-4a91-81be-74e05777973b",
   "metadata": {},
   "outputs": [],
   "source": []
  }
 ],
 "metadata": {
  "kernelspec": {
   "display_name": "Python 3",
   "language": "python",
   "name": "python3"
  },
  "language_info": {
   "codemirror_mode": {
    "name": "ipython",
    "version": 3
   },
   "file_extension": ".py",
   "mimetype": "text/x-python",
   "name": "python",
   "nbconvert_exporter": "python",
   "pygments_lexer": "ipython3",
   "version": "3.6.13"
  }
 },
 "nbformat": 4,
 "nbformat_minor": 5
}
